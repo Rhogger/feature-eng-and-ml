{
 "cells": [
  {
   "cell_type": "markdown",
   "id": "165c415b",
   "metadata": {},
   "source": [
    "# Configurações"
   ]
  },
  {
   "cell_type": "markdown",
   "id": "ed1ddf29",
   "metadata": {},
   "source": [
    "## Importações"
   ]
  },
  {
   "cell_type": "code",
   "execution_count": 12,
   "id": "87c7f2af",
   "metadata": {},
   "outputs": [],
   "source": [
    "import os\n",
    "\n",
    "import pandas as pd"
   ]
  },
  {
   "cell_type": "markdown",
   "id": "5124fc05",
   "metadata": {},
   "source": [
    "## Definição do Dataframe"
   ]
  },
  {
   "cell_type": "code",
   "execution_count": 13,
   "id": "1c67ab20",
   "metadata": {},
   "outputs": [],
   "source": [
    "df_movies = pd.read_csv(\"../datasets/movies.csv\")"
   ]
  },
  {
   "cell_type": "markdown",
   "id": "e84c3e3c",
   "metadata": {},
   "source": [
    "## Limpeza dos dados"
   ]
  },
  {
   "cell_type": "code",
   "execution_count": 14,
   "id": "a7a86b00",
   "metadata": {},
   "outputs": [
    {
     "name": "stdout",
     "output_type": "stream",
     "text": [
      "Engenharia e Pré-processamento de Features para ML\n",
      "\n",
      "Limpeza de Dados e Tratamento de Valores Ausentes...\n",
      "   DataFrame após dropna: (100, 11)\n"
     ]
    }
   ],
   "source": [
    "# --- Parte 2: Engenharia e Pré-processamento de Features para ML ---\n",
    "print(\"Engenharia e Pré-processamento de Features para ML\\n\")\n",
    "\n",
    "# 1. Limpeza de Dados e Tratamento de Valores Ausentes\n",
    "print(\"Limpeza de Dados e Tratamento de Valores Ausentes...\")\n",
    "\n",
    "# Para este exemplo, vamos dropar filmes com valores críticos ausentes\n",
    "df_movies.dropna(subset=['release_date', 'vote_average', 'vote_count', 'popularity', 'original_language'], inplace=True)\n",
    "\n",
    "# Preencher valores ausentes em 'genre_ids' com uma lista vazia ou um identificador de 'desconhecido'\n",
    "df_movies['genre_ids'] = df_movies['genre_ids'].apply(lambda x: x if isinstance(x, list) else [])\n",
    "df_movies['adult'] = df_movies['adult'].fillna(False)  # Preencher 'adult' com False se ausente\n",
    "\n",
    "print(f\"   DataFrame após dropna: {df_movies.shape}\")"
   ]
  },
  {
   "cell_type": "markdown",
   "id": "115a4bc9",
   "metadata": {},
   "source": [
    "# Gerar dataset"
   ]
  },
  {
   "cell_type": "code",
   "execution_count": 15,
   "id": "bf1bde6b",
   "metadata": {},
   "outputs": [],
   "source": [
    "os.makedirs('../datasets', exist_ok=True)\n",
    "df_movies.to_csv(\"../datasets/data_clean.csv\")"
   ]
  }
 ],
 "metadata": {
  "kernelspec": {
   "display_name": "feature-eng-and-ml-nVFKFfDZ",
   "language": "python",
   "name": "python3"
  },
  "language_info": {
   "codemirror_mode": {
    "name": "ipython",
    "version": 3
   },
   "file_extension": ".py",
   "mimetype": "text/x-python",
   "name": "python",
   "nbconvert_exporter": "python",
   "pygments_lexer": "ipython3",
   "version": "3.12.12"
  }
 },
 "nbformat": 4,
 "nbformat_minor": 5
}
