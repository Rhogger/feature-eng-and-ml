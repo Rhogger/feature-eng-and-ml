{
 "cells": [
  {
   "cell_type": "markdown",
   "id": "165c415b",
   "metadata": {},
   "source": [
    "# Configurações"
   ]
  },
  {
   "cell_type": "markdown",
   "id": "ed1ddf29",
   "metadata": {},
   "source": [
    "## Importações"
   ]
  },
  {
   "cell_type": "code",
   "execution_count": 1,
   "id": "87c7f2af",
   "metadata": {},
   "outputs": [],
   "source": [
    "import os\n",
    "from dotenv import load_dotenv\n",
    "import time\n",
    "\n",
    "import requests\n",
    "import json\n",
    "\n",
    "import pandas as pd"
   ]
  },
  {
   "cell_type": "markdown",
   "id": "a613229b",
   "metadata": {},
   "source": [
    "## Carregamento de variáveis de ambiente"
   ]
  },
  {
   "cell_type": "code",
   "execution_count": 2,
   "id": "58816c0c",
   "metadata": {},
   "outputs": [],
   "source": [
    "API_KEY = os.getenv(\"TMDB_API_KEY\")\n",
    "BASE_URL = os.getenv(\"BASE_URL\")"
   ]
  },
  {
   "cell_type": "code",
   "execution_count": 3,
   "id": "2c8d4362",
   "metadata": {},
   "outputs": [
    {
     "name": "stdout",
     "output_type": "stream",
     "text": [
      "--- Coletando, Processando Dados de Filmes e Aplicando ML com a API TMDb ---\n",
      "-------------------------------------------------------------------------\n",
      "\n",
      "Usando BASE_URL: https://api.themoviedb.org/3\n",
      "Usando API_KEY: c660b2a02a8f4e1313151be1ea06776f\n"
     ]
    }
   ],
   "source": [
    "print(\"--- Coletando, Processando Dados de Filmes e Aplicando ML com a API TMDb ---\")\n",
    "print(\"-------------------------------------------------------------------------\\n\")\n",
    "\n",
    "print(f\"Usando BASE_URL: {BASE_URL}\")\n",
    "print(f\"Usando API_KEY: {API_KEY}\")"
   ]
  },
  {
   "cell_type": "markdown",
   "id": "e7897bc0",
   "metadata": {},
   "source": [
    "## Coleta de dados"
   ]
  },
  {
   "cell_type": "code",
   "execution_count": 4,
   "id": "819ead76",
   "metadata": {},
   "outputs": [
    {
     "name": "stdout",
     "output_type": "stream",
     "text": [
      "Coleta de Dados de Filmes Populares do TMDb\n",
      "\n",
      "Coletando dados das primeiras 5 páginas de filmes populares...\n",
      "   Buscando página 1...\n",
      "   Página 1 coletada. 20 filmes adicionados.\n",
      "   Buscando página 2...\n",
      "   Página 2 coletada. 20 filmes adicionados.\n",
      "   Buscando página 3...\n",
      "   Página 3 coletada. 20 filmes adicionados.\n",
      "   Buscando página 4...\n",
      "   Página 4 coletada. 20 filmes adicionados.\n",
      "   Buscando página 5...\n",
      "   Página 5 coletada. 20 filmes adicionados.\n",
      "\n",
      "Coleta finalizada. Total de 100 filmes coletados.\n"
     ]
    }
   ],
   "source": [
    "# --- Parte 1: Coleta de Dados (Reutilizando código anterior) ---\n",
    "print(\"Coleta de Dados de Filmes Populares do TMDb\\n\")\n",
    "\n",
    "popular_movies_endpoint = f\"{BASE_URL}/movie/popular\"\n",
    "all_movies_data = []\n",
    "num_pages_to_fetch = 5  # Aumentamos para ter mais dados para ML\n",
    "\n",
    "print(f\"Coletando dados das primeiras {num_pages_to_fetch} páginas de filmes populares...\")\n",
    "\n",
    "for page_num in range(1, num_pages_to_fetch + 1):\n",
    "    params = {\n",
    "        'api_key': API_KEY,\n",
    "        'language': 'pt-BR',\n",
    "        'page': page_num\n",
    "    }\n",
    "    print(f\"   Buscando página {page_num}...\")\n",
    "    \n",
    "    try:\n",
    "        response = requests.get(popular_movies_endpoint, params=params)\n",
    "        response.raise_for_status()\n",
    "        page_data = response.json()\n",
    "        all_movies_data.extend(page_data['results'])\n",
    "        print(f\"   Página {page_num} coletada. {len(page_data['results'])} filmes adicionados.\")\n",
    "        time.sleep(0.5)  # Pausa de 0.5 segundos\n",
    "        \n",
    "    except requests.exceptions.HTTPError as e:\n",
    "        print(f\"   ERRO HTTP ao buscar página {page_num}: {e.response.status_code} - {e.response.text}\")\n",
    "        print(\"   Parando a coleta de páginas.\")\n",
    "        break\n",
    "        \n",
    "    except requests.exceptions.RequestException as e:\n",
    "        print(f\"   ERRO de Requisição ao buscar página {page_num}: {e}\")\n",
    "        print(\"   Parando a coleta de páginas.\")\n",
    "        break\n",
    "\n",
    "print(f\"\\nColeta finalizada. Total de {len(all_movies_data)} filmes coletados.\")"
   ]
  },
  {
   "cell_type": "markdown",
   "id": "fec24b12",
   "metadata": {},
   "source": [
    "# Definição do Dataframe"
   ]
  },
  {
   "cell_type": "code",
   "execution_count": 5,
   "id": "bc37c411",
   "metadata": {},
   "outputs": [
    {
     "name": "stdout",
     "output_type": "stream",
     "text": [
      "\n",
      "3. DataFrame Pandas inicial criado com sucesso:\n"
     ]
    }
   ],
   "source": [
    "# 3. Criar um DataFrame Pandas com os dados coletados\n",
    "selected_columns_raw = [\n",
    "    'id', 'title', 'overview', 'release_date', 'vote_average',\n",
    "    'vote_count', 'popularity', 'original_language', 'genre_ids',\n",
    "    'adult'  # Adicionamos 'adult' para um possível uso em ML\n",
    "]\n",
    "\n",
    "processed_movies_data = []\n",
    "for movie in all_movies_data:\n",
    "    filtered_movie = {col: movie.get(col) for col in selected_columns_raw}\n",
    "    processed_movies_data.append(filtered_movie)\n",
    "\n",
    "df_movies = pd.DataFrame(processed_movies_data)\n",
    "\n",
    "print(\"\\n3. DataFrame Pandas inicial criado com sucesso:\")"
   ]
  },
  {
   "cell_type": "code",
   "execution_count": 6,
   "id": "d0bd8fd0",
   "metadata": {},
   "outputs": [
    {
     "data": {
      "application/vnd.microsoft.datawrangler.viewer.v0+json": {
       "columns": [
        {
         "name": "index",
         "rawType": "int64",
         "type": "integer"
        },
        {
         "name": "id",
         "rawType": "int64",
         "type": "integer"
        },
        {
         "name": "title",
         "rawType": "object",
         "type": "string"
        },
        {
         "name": "overview",
         "rawType": "object",
         "type": "string"
        },
        {
         "name": "release_date",
         "rawType": "object",
         "type": "string"
        },
        {
         "name": "vote_average",
         "rawType": "float64",
         "type": "float"
        },
        {
         "name": "vote_count",
         "rawType": "int64",
         "type": "integer"
        },
        {
         "name": "popularity",
         "rawType": "float64",
         "type": "float"
        },
        {
         "name": "original_language",
         "rawType": "object",
         "type": "string"
        },
        {
         "name": "genre_ids",
         "rawType": "object",
         "type": "unknown"
        },
        {
         "name": "adult",
         "rawType": "bool",
         "type": "boolean"
        }
       ],
       "ref": "f4df861b-b95c-43f5-bed7-e55570d9cab5",
       "rows": [
        [
         "0",
         "1156594",
         "Nossa Culpa",
         "O casamento de Jenna e Lion marca o tão esperado reencontro entre Noah e Nick após o término. A incapacidade de Nick de perdoar Noah é uma barreira intransponível. Ele, herdeiro dos negócios do avô, e ela, iniciando a vida profissional, evitam alimentar uma chama ainda acesa. Mas, agora que seus caminhos se cruzaram novamente, será o amor mais forte que o ressentimento?",
         "2025-10-15",
         "7.9",
         "306",
         "1096.6654",
         "es",
         "[10749, 18]",
         "False"
        ],
        [
         "1",
         "1072699",
         "Furioza 2",
         "Após um assassinato, o novo líder da Furioza, Golden, toma as rédeas de sua gangue violenta e assume um novo foco entre as fronteiras.",
         "2025-10-14",
         "6.593",
         "27",
         "384.322",
         "pl",
         "[28, 80, 53]",
         "False"
        ],
        [
         "2",
         "1511789",
         "Captain Hook - The Cursed Tides",
         "Após uma derrota devastadora sofrida por seu arquiinimigo, Almirante Smee, o notório Capitão James Hook encontra refúgio na cidade costeira de Eldritch Landing, onde forma uma aliança improvável com Silas Blackweather, um ferreiro local em busca de vingança pelo assassinato de sua irmã. Enquanto eles fogem dos soldados casacas vermelhas de Smee na densa floresta da ilha, lutas de espadas implacáveis, maldições antigas e motivos conflitantes desafiarão sua busca compartilhada por vingança. Juntos, Hook e Silas navegam em águas desconhecidas para enfrentar o traiçoeiro Almirante Smee, embarcando em uma jornada que redefinirá o legado duradouro do Capitão Gancho.",
         "2025-07-11",
         "5.0",
         "15",
         "370.1091",
         "en",
         "[12, 28, 27]",
         "False"
        ],
        [
         "3",
         "755898",
         "A Guerra dos Mundos",
         "Will Radford é um renomado analista de cibersegurança do Departamento de Segurança Interna dos Estados Unidos, encarregado de rastrear possíveis ameaças à segurança nacional por meio de um programa de vigilância em massa. No entanto, um ataque inesperado por uma entidade desconhecida o leva a suspeitar que o governo esteja escondendo algo dele… e do restante do mundo.",
         "2025-07-29",
         "4.353",
         "645",
         "327.876",
         "en",
         "[878, 53]",
         "False"
        ],
        [
         "4",
         "1038392",
         "Invocação do Mal - O Último Ritual",
         "Neste último capítulo, os Warren enfrentam mais um caso aterrorizante, desta vez envolvendo entidades misteriosas que desafiam sua experiência. Ed (Patrick Wilson) e Lorraine (Vera Farmiga) se veem obrigados a encarar seus maiores medos, colocando suas vidas em risco em uma batalha final contra forças malignas.",
         "2025-09-03",
         "6.975",
         "1069",
         "284.0186",
         "en",
         "[27]",
         "False"
        ]
       ],
       "shape": {
        "columns": 10,
        "rows": 5
       }
      },
      "text/html": [
       "<div>\n",
       "<style scoped>\n",
       "    .dataframe tbody tr th:only-of-type {\n",
       "        vertical-align: middle;\n",
       "    }\n",
       "\n",
       "    .dataframe tbody tr th {\n",
       "        vertical-align: top;\n",
       "    }\n",
       "\n",
       "    .dataframe thead th {\n",
       "        text-align: right;\n",
       "    }\n",
       "</style>\n",
       "<table border=\"1\" class=\"dataframe\">\n",
       "  <thead>\n",
       "    <tr style=\"text-align: right;\">\n",
       "      <th></th>\n",
       "      <th>id</th>\n",
       "      <th>title</th>\n",
       "      <th>overview</th>\n",
       "      <th>release_date</th>\n",
       "      <th>vote_average</th>\n",
       "      <th>vote_count</th>\n",
       "      <th>popularity</th>\n",
       "      <th>original_language</th>\n",
       "      <th>genre_ids</th>\n",
       "      <th>adult</th>\n",
       "    </tr>\n",
       "  </thead>\n",
       "  <tbody>\n",
       "    <tr>\n",
       "      <th>0</th>\n",
       "      <td>1156594</td>\n",
       "      <td>Nossa Culpa</td>\n",
       "      <td>O casamento de Jenna e Lion marca o tão espera...</td>\n",
       "      <td>2025-10-15</td>\n",
       "      <td>7.900</td>\n",
       "      <td>306</td>\n",
       "      <td>1096.6654</td>\n",
       "      <td>es</td>\n",
       "      <td>[10749, 18]</td>\n",
       "      <td>False</td>\n",
       "    </tr>\n",
       "    <tr>\n",
       "      <th>1</th>\n",
       "      <td>1072699</td>\n",
       "      <td>Furioza 2</td>\n",
       "      <td>Após um assassinato, o novo líder da Furioza, ...</td>\n",
       "      <td>2025-10-14</td>\n",
       "      <td>6.593</td>\n",
       "      <td>27</td>\n",
       "      <td>384.3220</td>\n",
       "      <td>pl</td>\n",
       "      <td>[28, 80, 53]</td>\n",
       "      <td>False</td>\n",
       "    </tr>\n",
       "    <tr>\n",
       "      <th>2</th>\n",
       "      <td>1511789</td>\n",
       "      <td>Captain Hook - The Cursed Tides</td>\n",
       "      <td>Após uma derrota devastadora sofrida por seu a...</td>\n",
       "      <td>2025-07-11</td>\n",
       "      <td>5.000</td>\n",
       "      <td>15</td>\n",
       "      <td>370.1091</td>\n",
       "      <td>en</td>\n",
       "      <td>[12, 28, 27]</td>\n",
       "      <td>False</td>\n",
       "    </tr>\n",
       "    <tr>\n",
       "      <th>3</th>\n",
       "      <td>755898</td>\n",
       "      <td>A Guerra dos Mundos</td>\n",
       "      <td>Will Radford é um renomado analista de ciberse...</td>\n",
       "      <td>2025-07-29</td>\n",
       "      <td>4.353</td>\n",
       "      <td>645</td>\n",
       "      <td>327.8760</td>\n",
       "      <td>en</td>\n",
       "      <td>[878, 53]</td>\n",
       "      <td>False</td>\n",
       "    </tr>\n",
       "    <tr>\n",
       "      <th>4</th>\n",
       "      <td>1038392</td>\n",
       "      <td>Invocação do Mal - O Último Ritual</td>\n",
       "      <td>Neste último capítulo, os Warren enfrentam mai...</td>\n",
       "      <td>2025-09-03</td>\n",
       "      <td>6.975</td>\n",
       "      <td>1069</td>\n",
       "      <td>284.0186</td>\n",
       "      <td>en</td>\n",
       "      <td>[27]</td>\n",
       "      <td>False</td>\n",
       "    </tr>\n",
       "  </tbody>\n",
       "</table>\n",
       "</div>"
      ],
      "text/plain": [
       "        id                               title  \\\n",
       "0  1156594                         Nossa Culpa   \n",
       "1  1072699                           Furioza 2   \n",
       "2  1511789     Captain Hook - The Cursed Tides   \n",
       "3   755898                 A Guerra dos Mundos   \n",
       "4  1038392  Invocação do Mal - O Último Ritual   \n",
       "\n",
       "                                            overview release_date  \\\n",
       "0  O casamento de Jenna e Lion marca o tão espera...   2025-10-15   \n",
       "1  Após um assassinato, o novo líder da Furioza, ...   2025-10-14   \n",
       "2  Após uma derrota devastadora sofrida por seu a...   2025-07-11   \n",
       "3  Will Radford é um renomado analista de ciberse...   2025-07-29   \n",
       "4  Neste último capítulo, os Warren enfrentam mai...   2025-09-03   \n",
       "\n",
       "   vote_average  vote_count  popularity original_language     genre_ids  adult  \n",
       "0         7.900         306   1096.6654                es   [10749, 18]  False  \n",
       "1         6.593          27    384.3220                pl  [28, 80, 53]  False  \n",
       "2         5.000          15    370.1091                en  [12, 28, 27]  False  \n",
       "3         4.353         645    327.8760                en     [878, 53]  False  \n",
       "4         6.975        1069    284.0186                en          [27]  False  "
      ]
     },
     "execution_count": 6,
     "metadata": {},
     "output_type": "execute_result"
    }
   ],
   "source": [
    "df_movies.head()"
   ]
  },
  {
   "cell_type": "code",
   "execution_count": 7,
   "id": "59a39898",
   "metadata": {},
   "outputs": [
    {
     "name": "stdout",
     "output_type": "stream",
     "text": [
      "Formato do DataFrame: (100, 10)\n"
     ]
    }
   ],
   "source": [
    "print(f\"Formato do DataFrame: {df_movies.shape}\")"
   ]
  },
  {
   "cell_type": "markdown",
   "id": "8aa9e1f5",
   "metadata": {},
   "source": [
    "# Gerar o dataset"
   ]
  },
  {
   "cell_type": "code",
   "execution_count": 8,
   "id": "0d85bf27",
   "metadata": {},
   "outputs": [],
   "source": [
    "os.makedirs('../datasets', exist_ok=True)\n",
    "df_movies.to_csv(\"../datasets/movies.csv\")"
   ]
  }
 ],
 "metadata": {
  "kernelspec": {
   "display_name": "feature-eng-and-ml-nVFKFfDZ",
   "language": "python",
   "name": "python3"
  },
  "language_info": {
   "codemirror_mode": {
    "name": "ipython",
    "version": 3
   },
   "file_extension": ".py",
   "mimetype": "text/x-python",
   "name": "python",
   "nbconvert_exporter": "python",
   "pygments_lexer": "ipython3",
   "version": "3.12.12"
  }
 },
 "nbformat": 4,
 "nbformat_minor": 5
}
