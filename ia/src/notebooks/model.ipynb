{
 "cells": [
  {
   "cell_type": "markdown",
   "id": "165c415b",
   "metadata": {},
   "source": [
    "# Configurações"
   ]
  },
  {
   "cell_type": "markdown",
   "id": "ed1ddf29",
   "metadata": {},
   "source": [
    "## Importações"
   ]
  },
  {
   "cell_type": "code",
   "execution_count": 23,
   "id": "87c7f2af",
   "metadata": {},
   "outputs": [],
   "source": [
    "import os\n",
    "import sys\n",
    "import joblib\n",
    "\n",
    "# Adicionar o diretório pai (src) ao path do Python\n",
    "sys.path.append(os.path.abspath('../'))\n",
    "\n",
    "from constants import numerical_features, categorical_features\n",
    "\n",
    "import pandas as pd\n",
    "import matplotlib.pyplot as plt\n",
    "import seaborn as sns\n",
    "\n",
    "from sklearn.model_selection import train_test_split\n",
    "from sklearn.preprocessing import StandardScaler, OneHotEncoder\n",
    "from sklearn.compose import ColumnTransformer\n",
    "from sklearn.pipeline import Pipeline\n",
    "from sklearn.linear_model import LogisticRegression\n",
    "from sklearn.metrics import accuracy_score, classification_report, confusion_matrix"
   ]
  },
  {
   "cell_type": "markdown",
   "id": "e7897bc0",
   "metadata": {},
   "source": [
    "## Definição do Dataframe"
   ]
  },
  {
   "cell_type": "code",
   "execution_count": 13,
   "id": "2cf7d104",
   "metadata": {},
   "outputs": [],
   "source": [
    "df_movies = pd.read_csv(\"../datasets/eda.csv\")"
   ]
  },
  {
   "cell_type": "markdown",
   "id": "9453aea1",
   "metadata": {},
   "source": [
    "# Modelagem"
   ]
  },
  {
   "cell_type": "markdown",
   "id": "de228953",
   "metadata": {},
   "source": [
    "## Separação de treino e teste"
   ]
  },
  {
   "cell_type": "code",
   "execution_count": 14,
   "id": "0cac66cd",
   "metadata": {},
   "outputs": [
    {
     "name": "stdout",
     "output_type": "stream",
     "text": [
      "Treinamento e Avaliação do Modelo de Machine Learning\n",
      "\n",
      "Dados divididos: Treino (80 amostras), Teste (20 amostras).\n",
      "\n",
      "Pré-processador (StandardScaler e OneHotEncoder) configurado com ColumnTransformer.\n"
     ]
    }
   ],
   "source": [
    "# --- Parte 3: Treinamento e Avaliação do Modelo de Machine Learning ---\n",
    "print(\"Treinamento e Avaliação do Modelo de Machine Learning\\n\")\n",
    "\n",
    "# 1. Divisão dos Dados em Treino e Teste\n",
    "features = numerical_features + categorical_features\n",
    "X = df_movies[features]\n",
    "y = df_movies['is_highly_rated']\n",
    "\n",
    "X_train, X_test, y_train, y_test = train_test_split(X, y, test_size=0.2, random_state=42, stratify=y)\n",
    "print(f\"Dados divididos: Treino ({X_train.shape[0]} amostras), Teste ({X_test.shape[0]} amostras).\")\n",
    "\n",
    "# 2. Pré-processamento com Pipeline e ColumnTransformer\n",
    "# Criamos um pré-processador para aplicar transformações diferentes a diferentes tipos de colunas.\n",
    "# StandardScaler para features numéricas (escalona para média 0 e desvio padrão 1).\n",
    "# OneHotEncoder para features categóricas (cria colunas binárias para cada categoria).\n",
    "preprocessor = ColumnTransformer(\n",
    "    transformers=[\n",
    "        ('num', StandardScaler(), numerical_features),\n",
    "        ('cat', OneHotEncoder(handle_unknown='ignore'), categorical_features)\n",
    "    ]\n",
    ")\n",
    "\n",
    "print(\"\\nPré-processador (StandardScaler e OneHotEncoder) configurado com ColumnTransformer.\")"
   ]
  },
  {
   "cell_type": "markdown",
   "id": "9e078940",
   "metadata": {},
   "source": [
    "## Treinamento"
   ]
  },
  {
   "cell_type": "code",
   "execution_count": null,
   "id": "5119e029",
   "metadata": {},
   "outputs": [
    {
     "name": "stdout",
     "output_type": "stream",
     "text": [
      "\n",
      "Treinando o modelo de Regressão Logística...\n",
      "   Modelo treinado com sucesso!\n",
      "\n",
      "Previsões realizadas no conjunto de teste.\n"
     ]
    }
   ],
   "source": [
    "# 3. Criação e Treinamento do Modelo (Pipeline)\n",
    "# Um Pipeline encadeia as etapas de pré-processamento e o modelo.\n",
    "model = Pipeline(steps=[('preprocessor', preprocessor),\n",
    "                       ('classifier', LogisticRegression(random_state=42, solver='liblinear'))])\n",
    "\n",
    "print(\"\\nTreinando o modelo de Regressão Logística...\")\n",
    "model.fit(X_train, y_train)\n",
    "print(\"   Modelo treinado com sucesso!\")\n",
    "\n",
    "# 4. Previsões no Conjunto de Teste\n",
    "y_pred = model.predict(X_test)\n",
    "print(\"\\nPrevisões realizadas no conjunto de teste.\")"
   ]
  },
  {
   "cell_type": "markdown",
   "id": "27afb374",
   "metadata": {},
   "source": [
    "## Avaliação"
   ]
  },
  {
   "cell_type": "code",
   "execution_count": 18,
   "id": "5681570a",
   "metadata": {},
   "outputs": [
    {
     "name": "stdout",
     "output_type": "stream",
     "text": [
      "\n",
      "5. Avaliação do Modelo:\n",
      " Acurácia: 0.65\n",
      "\n",
      " Relatório de Classificação:\n",
      "              precision    recall  f1-score   support\n",
      "\n",
      "           0       0.67      0.92      0.77        13\n",
      "           1       0.50      0.14      0.22         7\n",
      "\n",
      "    accuracy                           0.65        20\n",
      "   macro avg       0.58      0.53      0.50        20\n",
      "weighted avg       0.61      0.65      0.58        20\n",
      "\n"
     ]
    },
    {
     "data": {
      "image/png": "[encoded data removed]",
      "text/plain": [
       "<Figure size 600x400 with 2 Axes>"
      ]
     },
     "metadata": {},
     "output_type": "display_data"
    },
    {
     "name": "stdout",
     "output_type": "stream",
     "text": [
      "---Fim da Análise de ML---\n"
     ]
    }
   ],
   "source": [
    "# 5. Avaliação do Modelo\n",
    "print(\"\\n5. Avaliação do Modelo:\")\n",
    "\n",
    "accuracy = accuracy_score(y_test, y_pred)\n",
    "\n",
    "print(f\" Acurácia: {accuracy:.2f}\")\n",
    "print(\"\\n Relatório de Classificação:\")\n",
    "print(classification_report(y_test, y_pred))\n",
    "\n",
    "# Visualização da Matriz de Confusão\n",
    "cm = confusion_matrix(y_test, y_pred)\n",
    "plt.figure(figsize=(6, 4))\n",
    "sns.heatmap(cm, annot=True, fmt='d', cmap='Blues', xticklabels=['Não Altamente Avaliado', 'Altamente Avaliado'], yticklabels=['Não Altamente Avaliado', 'Altamente Avaliado'])\n",
    "plt.xlabel('Previsto')\n",
    "plt.ylabel('Verdadeiro')\n",
    "plt.title('Matriz de Confusão')\n",
    "plt.show()\n",
    "\n",
    "print(\"---Fim da Análise de ML---\")"
   ]
  },
  {
   "cell_type": "markdown",
   "id": "0fd34dfc",
   "metadata": {},
   "source": [
    "# Gerar dataset"
   ]
  },
  {
   "cell_type": "code",
   "execution_count": 20,
   "id": "111258d2",
   "metadata": {},
   "outputs": [],
   "source": [
    "os.makedirs('../datasets', exist_ok=True)\n",
    "df_movies.to_csv(\"../datasets/model.csv\", index=False, encoding=\"utf-8\")"
   ]
  },
  {
   "cell_type": "markdown",
   "id": "4d752e24",
   "metadata": {},
   "source": [
    "# Gerar modelos "
   ]
  },
  {
   "cell_type": "code",
   "execution_count": 24,
   "id": "c0569a36",
   "metadata": {},
   "outputs": [
    {
     "data": {
      "text/plain": [
       "['../models/model.pkl']"
      ]
     },
     "execution_count": 24,
     "metadata": {},
     "output_type": "execute_result"
    }
   ],
   "source": [
    "os.makedirs('../models', exist_ok=True)\n",
    "joblib.dump(model, \"../models/model.pkl\")"
   ]
  }
 ],
 "metadata": {
  "kernelspec": {
   "display_name": "feature-eng-and-ml-nVFKFfDZ",
   "language": "python",
   "name": "python3"
  },
  "language_info": {
   "codemirror_mode": {
    "name": "ipython",
    "version": 3
   },
   "file_extension": ".py",
   "mimetype": "text/x-python",
   "name": "python",
   "nbconvert_exporter": "python",
   "pygments_lexer": "ipython3",
   "version": "3.12.12"
  }
 },
 "nbformat": 4,
 "nbformat_minor": 5
}
