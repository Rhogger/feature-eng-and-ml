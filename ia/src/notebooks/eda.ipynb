{
 "cells": [
  {
   "cell_type": "markdown",
   "id": "165c415b",
   "metadata": {},
   "source": [
    "# Configurações"
   ]
  },
  {
   "cell_type": "markdown",
   "id": "ed1ddf29",
   "metadata": {},
   "source": [
    "## Importações"
   ]
  },
  {
   "cell_type": "code",
   "execution_count": 30,
   "id": "87c7f2af",
   "metadata": {},
   "outputs": [],
   "source": [
    "import os\n",
    "import sys\n",
    "\n",
    "# Adicionar o diretório pai (src) ao path do Python\n",
    "sys.path.append(os.path.abspath('../'))\n",
    "\n",
    "import pandas as pd\n",
    "\n",
    "from constants import numerical_features, categorical_features"
   ]
  },
  {
   "cell_type": "markdown",
   "id": "e7897bc0",
   "metadata": {},
   "source": [
    "## Definição do Dataframe"
   ]
  },
  {
   "cell_type": "code",
   "execution_count": 10,
   "id": "a7bb4dc1",
   "metadata": {},
   "outputs": [],
   "source": [
    "df_movies = pd.read_csv(\"../datasets/data_clean.csv\")"
   ]
  },
  {
   "cell_type": "markdown",
   "id": "8ce0942c",
   "metadata": {},
   "source": [
    "# Engenharia de Features"
   ]
  },
  {
   "cell_type": "code",
   "execution_count": 31,
   "id": "f5d18d2b",
   "metadata": {},
   "outputs": [
    {
     "name": "stdout",
     "output_type": "stream",
     "text": [
      "\n",
      "Engenharia de Features...\n",
      "   Criada feature 'release_year'.\n",
      "   Criada feature 'movie_age'.\n",
      "   Convertida feature 'adult' para 'is_adult' (0 ou 1).\n",
      "   Criada feature 'num_genres'.\n"
     ]
    }
   ],
   "source": [
    "# 2. Engenharia de Features\n",
    "print(\"\\nEngenharia de Features...\")\n",
    "\n",
    "# Feature 1: Ano de Lançamento\n",
    "df_movies['release_year'] = pd.to_datetime(df_movies['release_date']).dt.year\n",
    "print(\"   Criada feature 'release_year'.\")\n",
    "\n",
    "# Feature 2: Idade do Filme (anos desde o lançamento)\n",
    "current_year = pd.Timestamp.now().year\n",
    "df_movies['movie_age'] = current_year - df_movies['release_year']\n",
    "print(\"   Criada feature 'movie_age'.\")\n",
    "\n",
    "# Feature 3: Converter 'adult' para inteiro (0 ou 1)\n",
    "df_movies['is_adult'] = df_movies['adult'].astype(int)\n",
    "print(\"   Convertida feature 'adult' para 'is_adult' (0 ou 1).\")\n",
    "\n",
    "# Feature 4: Número de Gêneros (simples, podemos expandir isso)\n",
    "df_movies['num_genres'] = df_movies['genre_ids'].apply(len)\n",
    "print(\"   Criada feature 'num_genres'.\")"
   ]
  },
  {
   "cell_type": "code",
   "execution_count": 32,
   "id": "8a4557bb",
   "metadata": {},
   "outputs": [
    {
     "name": "stdout",
     "output_type": "stream",
     "text": [
      "\n",
      "3. Definida variável alvo 'is_highly_rated' (1 se vote_average >= 7.0 e vote_count >= 50, 0 caso contrário).\n",
      "   Distribuição da variável alvo: \n",
      "is_highly_rated\n",
      "0    0.63\n",
      "1    0.37\n",
      "Name: proportion, dtype: float64\n"
     ]
    }
   ],
   "source": [
    "# 3. Definição da Variável Alvo (Target Variable)\n",
    "# Vamos definir um filme como 'altamente avaliado' se a média de votos for > 7.0 E\n",
    "# se tiver mais de um certo número de votos para garantir a relevância.\n",
    "min_vote_count_threshold = 50  # Exemplo: apenas filmes com mais de 50 votos\n",
    "\n",
    "df_movies['is_highly_rated'] = ((df_movies['vote_average'] >= 7.0) & \n",
    "                                (df_movies['vote_count'] >= min_vote_count_threshold)).astype(int)\n",
    "\n",
    "print(f\"\\n3. Definida variável alvo 'is_highly_rated' (1 se vote_average >= 7.0 e vote_count >= {min_vote_count_threshold}, 0 caso contrário).\")\n",
    "print(f\"   Distribuição da variável alvo: \\n{df_movies['is_highly_rated'].value_counts(normalize=True)}\")"
   ]
  },
  {
   "cell_type": "code",
   "execution_count": null,
   "id": "f955e3e2",
   "metadata": {},
   "outputs": [
    {
     "name": "stdout",
     "output_type": "stream",
     "text": [
      "\n",
      "4. Features selecionadas para o modelo: ['vote_count', 'popularity', 'release_year', 'movie_age', 'num_genres', 'original_language', 'is_adult']\n"
     ]
    }
   ],
   "source": [
    "# 4. Seleção das Features para o Modelo\n",
    "# Vamos usar algumas features numéricas e uma categórica.\n",
    "\n",
    "\n",
    "# Garantir que todas as colunas existem\n",
    "for col in numerical_features + categorical_features:\n",
    "    if col not in df_movies.columns:\n",
    "        print(f\"AVISO: Coluna '{col}' não encontrada no DataFrame. Verifique a engenharia de features.\")\n",
    "        numerical_features = [f for f in numerical_features if f != col]\n",
    "        categorical_features = [f for f in categorical_features if f != col]\n",
    "\n",
    "features = numerical_features + categorical_features\n",
    "print(f\"\\n4. Features selecionadas para o modelo: {features}\")\n",
    "\n",
    "# 5. Tratamento de Outliers (Exemplo simplificado: remover filmes muito antigos se 'release_year' for muito baixo)\n",
    "# df_movies = df_movies[df_movies['release_year'] > 1950]  # Exemplo, dependendo do dataset"
   ]
  },
  {
   "cell_type": "markdown",
   "id": "638856d9",
   "metadata": {},
   "source": [
    "# Gerar dataset"
   ]
  },
  {
   "cell_type": "code",
   "execution_count": 34,
   "id": "fcd6e178",
   "metadata": {},
   "outputs": [],
   "source": [
    "os.makedirs('../datasets', exist_ok=True)\n",
    "df_movies.to_csv(\"../datasets/eda.csv\")"
   ]
  }
 ],
 "metadata": {
  "kernelspec": {
   "display_name": "feature-eng-and-ml-nVFKFfDZ",
   "language": "python",
   "name": "python3"
  },
  "language_info": {
   "codemirror_mode": {
    "name": "ipython",
    "version": 3
   },
   "file_extension": ".py",
   "mimetype": "text/x-python",
   "name": "python",
   "nbconvert_exporter": "python",
   "pygments_lexer": "ipython3",
   "version": "3.12.12"
  }
 },
 "nbformat": 4,
 "nbformat_minor": 5
}
